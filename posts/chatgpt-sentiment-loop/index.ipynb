{
  "cells": [
    {
      "cell_type": "raw",
      "metadata": {},
      "source": [
        "---\n",
        "date: today\n",
        "draft: false\n",
        "title: chatgpt-sentiment-simple\n",
        "execute:\n",
        "  eval: true\n",
        "highlight-style: github\n",
        "extype: string\n",
        "exsolution: ''\n",
        "categories:\n",
        "  - textmining\n",
        "  - nlp\n",
        "  - transformer\n",
        "  - chatgpt\n",
        "  - sentiment\n",
        "---"
      ],
      "id": "3faa8ef3"
    },
    {
      "cell_type": "markdown",
      "metadata": {},
      "source": [
        "```{r global-knitr-options, include=FALSE}\n",
        "knitr::opts_chunk$set(fig.pos = 'H',\n",
        "                      fig.asp = 0.618,\n",
        "                      fig.width = 4,\n",
        "                      fig.cap = \"\", \n",
        "                      fig.path = \"\",\n",
        "                      echo = TRUE, \n",
        "                      message = FALSE,\n",
        "                      fig.show = \"hold\")\n",
        "```\n",
        "\n",
        "\n",
        "\n",
        "\n",
        "\n",
        "\n",
        "\n",
        "# Aufgabe\n",
        "\n",
        "\n",
        "Fragen Sie ChatGPT via API zum Sentiment der ersten zwei Texte aus dem Germeval-2018-Datensatz (Train).\n",
        "\n",
        "\n",
        "Hinweise:\n",
        "\n",
        "- Beachten Sie die [Standardhinweise des Datenwerks](https://datenwerk.netlify.app/hinweise).\n",
        "- Nutzen Sie Python, nicht R.\n",
        "- Das Verwenden der OpenAI-API kostet Geld. 💸 Informieren Sie sich vorab. Um auf die API zugreifen zu können, müssen Sie sich ein Konto angelegt haben und über ein Guthaben verfügen.\n",
        "\n",
        "\n",
        "\n",
        "</br>\n",
        "</br>\n",
        "</br>\n",
        "</br>\n",
        "</br>\n",
        "</br>\n",
        "</br>\n",
        "</br>\n",
        "</br>\n",
        "</br>\n",
        "\n",
        "# Lösung\n",
        "\n",
        "\n",
        "::: {.callout-attention}\n",
        "OpenAI hat eine neue API (Stand: 2023-11-23). Der Code der alten API bricht. 💔 $\\square$\n",
        ":::\n",
        "\n",
        "\n",
        "\n",
        "\n",
        "Module importieren:"
      ],
      "id": "129d63a5"
    },
    {
      "cell_type": "code",
      "metadata": {},
      "source": [
        "from openai import OpenAI\n",
        "import pandas as pd\n",
        "import time "
      ],
      "id": "8af017de",
      "execution_count": null,
      "outputs": []
    },
    {
      "cell_type": "markdown",
      "metadata": {},
      "source": [
        "Daten importieren:"
      ],
      "id": "038d3846"
    },
    {
      "cell_type": "code",
      "metadata": {},
      "source": [
        "csv_file_path_train = 'https://github.com/sebastiansauer/pradadata/raw/master/data-raw/germeval_train.csv'\n",
        "\n",
        "germeval_train = pd.read_csv(csv_file_path_train)"
      ],
      "id": "0d4c3335",
      "execution_count": null,
      "outputs": []
    },
    {
      "cell_type": "markdown",
      "metadata": {},
      "source": [
        "Die ersten paar Texte herausziehen:"
      ],
      "id": "03de76ef"
    },
    {
      "cell_type": "code",
      "metadata": {},
      "source": [
        "n_tweets = 2\n",
        "tweets_first_few = germeval_train[\"text\"].head(n_tweets).tolist()\n",
        "tweets_first_few"
      ],
      "id": "0aa6cbdc",
      "execution_count": null,
      "outputs": []
    },
    {
      "cell_type": "markdown",
      "metadata": {},
      "source": [
        "Prompt definieren:"
      ],
      "id": "c97e1d91"
    },
    {
      "cell_type": "code",
      "metadata": {},
      "source": [
        "prompt_stem  = \"Als KI mit Exertise in natürlicher Sprache und Emotionserkennung ist es Ihre Aufgabe, das Sentiment des folgenden Textes zu erkennen. Bitte antworten Sie nur mit einem Wort, entweder 'positiv', 'neutral' oder 'negativ'. Dieses Wort soll die Insgesamt-Einschätzung des Sentiments des Textes zusammenfassen. Nach dem Doppelpunkt folt der Text, dessen Sentiment Sie einschätzen sollen: \\n\""
      ],
      "id": "7cef02b4",
      "execution_count": null,
      "outputs": []
    },
    {
      "cell_type": "markdown",
      "metadata": {},
      "source": [
        "Mit \"List Comprehension\" können wir die Tweets jeweils mit dem Prompt verknüpfen:"
      ],
      "id": "fa4d4206"
    },
    {
      "cell_type": "code",
      "metadata": {},
      "source": [
        "prompts = [prompt_stem + tweet for tweet in tweets_first_few]\n",
        "prompts[0]"
      ],
      "id": "9ccf57b6",
      "execution_count": null,
      "outputs": []
    },
    {
      "cell_type": "markdown",
      "metadata": {},
      "source": [
        "Check: Wie viele Elemente hat die Liste `prompts`?"
      ],
      "id": "2d133c74"
    },
    {
      "cell_type": "code",
      "metadata": {},
      "source": [
        "len(prompts)"
      ],
      "id": "91fb721e",
      "execution_count": null,
      "outputs": []
    },
    {
      "cell_type": "markdown",
      "metadata": {},
      "source": [
        "Anmelden bei OpenAI:"
      ],
      "id": "a37fa968"
    },
    {
      "cell_type": "code",
      "metadata": {},
      "source": [
        "client = OpenAI()"
      ],
      "id": "5e04a55d",
      "execution_count": null,
      "outputs": []
    },
    {
      "cell_type": "markdown",
      "metadata": {},
      "source": [
        "::: {.callout-note}\n",
        "Dieses Anmeldeverfahren setzt voraus, dass in `.Renviron` die Variable `OPENAI_API_KEY` hinterlegt ist. $\\square$\n",
        ":::\n",
        "\n",
        "\n",
        "\n",
        "\n",
        "\n",
        "\n",
        "Anfrage an die API, in eine Funktion gepackt:"
      ],
      "id": "f4483f1e"
    },
    {
      "cell_type": "code",
      "metadata": {},
      "source": [
        "def get_completion(prompt, client_instance, model=\"gpt-3.5-turbo\"):\n",
        "  messages = [{\"role\": \"user\", \"content\": prompt}]\n",
        "  response = client_instance.chat.completions.create(\n",
        "    model=model,\n",
        "    messages=messages,\n",
        "    max_tokens=50,\n",
        "    temperature=0,\n",
        "  )\n",
        "  return response.choices[0].message.content"
      ],
      "id": "12889fdc",
      "execution_count": null,
      "outputs": []
    },
    {
      "cell_type": "markdown",
      "metadata": {},
      "source": [
        "Und jetzt als Schleife:\n",
        "\n",
        "\n",
        "Ergebnisliste anlegen, am Anfang noch leer:"
      ],
      "id": "6a3df12c"
    },
    {
      "cell_type": "code",
      "metadata": {},
      "source": [
        "results = []"
      ],
      "id": "fde3c941",
      "execution_count": null,
      "outputs": []
    },
    {
      "cell_type": "code",
      "metadata": {},
      "source": [
        "start_time = time.time()\n",
        "\n",
        "for prompt in prompts:\n",
        "  result = get_completion(prompt, client) \n",
        "  results.append(result)\n",
        "\n",
        "end_time = time.time()\n",
        "end_time - start_time"
      ],
      "id": "9311bc86",
      "execution_count": null,
      "outputs": []
    },
    {
      "cell_type": "markdown",
      "metadata": {},
      "source": [
        "Voilà:\n"
      ],
      "id": "98760abb"
    },
    {
      "cell_type": "code",
      "metadata": {},
      "source": [
        "print(results)"
      ],
      "id": "c51bf05a",
      "execution_count": null,
      "outputs": []
    }
  ],
  "metadata": {
    "kernelspec": {
      "display_name": "Python 3",
      "language": "python",
      "name": "python3"
    }
  },
  "nbformat": 4,
  "nbformat_minor": 5
}